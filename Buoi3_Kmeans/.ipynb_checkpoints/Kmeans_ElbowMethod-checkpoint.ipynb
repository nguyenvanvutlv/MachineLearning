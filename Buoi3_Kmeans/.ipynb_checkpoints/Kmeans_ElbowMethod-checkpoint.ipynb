{
 "cells": [
  {
   "cell_type": "code",
   "execution_count": 9,
   "id": "e37b0d67",
   "metadata": {},
   "outputs": [],
   "source": [
    "import numpy as np\n",
    "import matplotlib.pyplot as plt\n",
    "import pandas as pd\n",
    "from scipy.spatial.distance import cdist\n",
    "from sklearn.cluster import KMeans\n",
    "from sklearn import metrics\n",
    "from sklearn.preprocessing import StandardScaler\n",
    "import warnings\n",
    "warnings.filterwarnings(\"ignore\")"
   ]
  },
  {
   "cell_type": "code",
   "execution_count": 10,
   "id": "0ead28a9",
   "metadata": {},
   "outputs": [
    {
     "data": {
      "text/html": [
       "<div>\n",
       "<style scoped>\n",
       "    .dataframe tbody tr th:only-of-type {\n",
       "        vertical-align: middle;\n",
       "    }\n",
       "\n",
       "    .dataframe tbody tr th {\n",
       "        vertical-align: top;\n",
       "    }\n",
       "\n",
       "    .dataframe thead th {\n",
       "        text-align: right;\n",
       "    }\n",
       "</style>\n",
       "<table border=\"1\" class=\"dataframe\">\n",
       "  <thead>\n",
       "    <tr style=\"text-align: right;\">\n",
       "      <th></th>\n",
       "      <th>CustomerID</th>\n",
       "      <th>Genre</th>\n",
       "      <th>Age</th>\n",
       "      <th>Annual Income (k$)</th>\n",
       "      <th>Spending Score (1-100)</th>\n",
       "    </tr>\n",
       "  </thead>\n",
       "  <tbody>\n",
       "    <tr>\n",
       "      <th>0</th>\n",
       "      <td>1</td>\n",
       "      <td>Male</td>\n",
       "      <td>19</td>\n",
       "      <td>15</td>\n",
       "      <td>39</td>\n",
       "    </tr>\n",
       "    <tr>\n",
       "      <th>1</th>\n",
       "      <td>2</td>\n",
       "      <td>Male</td>\n",
       "      <td>21</td>\n",
       "      <td>15</td>\n",
       "      <td>81</td>\n",
       "    </tr>\n",
       "    <tr>\n",
       "      <th>2</th>\n",
       "      <td>3</td>\n",
       "      <td>Female</td>\n",
       "      <td>20</td>\n",
       "      <td>16</td>\n",
       "      <td>6</td>\n",
       "    </tr>\n",
       "    <tr>\n",
       "      <th>3</th>\n",
       "      <td>4</td>\n",
       "      <td>Female</td>\n",
       "      <td>23</td>\n",
       "      <td>16</td>\n",
       "      <td>77</td>\n",
       "    </tr>\n",
       "    <tr>\n",
       "      <th>4</th>\n",
       "      <td>5</td>\n",
       "      <td>Female</td>\n",
       "      <td>31</td>\n",
       "      <td>17</td>\n",
       "      <td>40</td>\n",
       "    </tr>\n",
       "  </tbody>\n",
       "</table>\n",
       "</div>"
      ],
      "text/plain": [
       "   CustomerID   Genre  Age  Annual Income (k$)  Spending Score (1-100)\n",
       "0           1    Male   19                  15                      39\n",
       "1           2    Male   21                  15                      81\n",
       "2           3  Female   20                  16                       6\n",
       "3           4  Female   23                  16                      77\n",
       "4           5  Female   31                  17                      40"
      ]
     },
     "execution_count": 10,
     "metadata": {},
     "output_type": "execute_result"
    }
   ],
   "source": [
    "data = pd.read_csv(\"Mall.csv\")\n",
    "data.head()"
   ]
  },
  {
   "cell_type": "code",
   "execution_count": 11,
   "id": "12a16d74",
   "metadata": {},
   "outputs": [],
   "source": [
    "df = data.iloc[:,[2,3]].values"
   ]
  },
  {
   "cell_type": "code",
   "execution_count": 12,
   "id": "ea6cae1a",
   "metadata": {},
   "outputs": [
    {
     "data": {
      "text/plain": [
       "array([[19, 15],\n",
       "       [21, 15],\n",
       "       [20, 16],\n",
       "       [23, 16],\n",
       "       [31, 17],\n",
       "       [22, 17],\n",
       "       [35, 18],\n",
       "       [23, 18],\n",
       "       [64, 19],\n",
       "       [30, 19]], dtype=int64)"
      ]
     },
     "execution_count": 12,
     "metadata": {},
     "output_type": "execute_result"
    }
   ],
   "source": [
    "df[:10]"
   ]
  },
  {
   "cell_type": "code",
   "execution_count": 13,
   "id": "c9c62da3",
   "metadata": {},
   "outputs": [],
   "source": [
    "x = df[:,[0,1]]"
   ]
  },
  {
   "cell_type": "code",
   "execution_count": 14,
   "id": "5e3ed59d",
   "metadata": {},
   "outputs": [
    {
     "data": {
      "image/png": "[encoded data removed]",
      "text/plain": [
       "<Figure size 720x432 with 1 Axes>"
      ]
     },
     "metadata": {
      "needs_background": "light"
     },
     "output_type": "display_data"
    }
   ],
   "source": [
    "# Vẽ biểu đồ\n",
    "colors = ['blue' if i == 'Male' else 'pink' for i in data.iloc[:,[1]].values]\n",
    "\n",
    "labels = [i for i in data['Genre']]\n",
    "\n",
    "\n",
    "plt.figure(figsize = (10,6))\n",
    "plt.scatter(x[0][0],x[0][1],c=colors[0],label=labels[0])\n",
    "plt.scatter(x[2][0],x[2][1],c=colors[2],label=labels[2])\n",
    "for i in range(len(df)):\n",
    "    plt.scatter(x[i][0],x[i][1],c = colors[i])\n",
    "plt.legend();\n"
   ]
  },
  {
   "cell_type": "code",
   "execution_count": 15,
   "id": "44cb41d2",
   "metadata": {},
   "outputs": [],
   "source": [
    "# tìm Elbow\n",
    "hisiner = []\n",
    "for i in range(1,11):\n",
    "    hisiner.append(KMeans(n_clusters = i).fit(x).inertia_)"
   ]
  },
  {
   "cell_type": "code",
   "execution_count": 16,
   "id": "86e92eb6",
   "metadata": {},
   "outputs": [
    {
     "data": {
      "text/plain": [
       "[176108.77999999997,\n",
       " 87121.56591478694,\n",
       " 59492.737994932744,\n",
       " 39847.421750102265,\n",
       " 31659.353138717805,\n",
       " 25443.16691767983,\n",
       " 21857.01597051596,\n",
       " 19199.41844863851,\n",
       " 16778.56170875534,\n",
       " 13785.866361845006]"
      ]
     },
     "execution_count": 16,
     "metadata": {},
     "output_type": "execute_result"
    }
   ],
   "source": [
    "hisiner"
   ]
  },
  {
   "cell_type": "code",
   "execution_count": 18,
   "id": "6b7d0d77",
   "metadata": {},
   "outputs": [
    {
     "data": {
      "image/png": "[encoded data removed]",
      "text/plain": [
       "<Figure size 432x288 with 1 Axes>"
      ]
     },
     "metadata": {
      "needs_background": "light"
     },
     "output_type": "display_data"
    }
   ],
   "source": [
    "plt.plot([i for i in range(1,11)],hisiner,marker='o');"
   ]
  },
  {
   "cell_type": "code",
   "execution_count": 19,
   "id": "121afb48",
   "metadata": {},
   "outputs": [],
   "source": [
    "K = 4"
   ]
  },
  {
   "cell_type": "code",
   "execution_count": 20,
   "id": "71f9ac3a",
   "metadata": {},
   "outputs": [],
   "source": [
    "y = KMeans(n_clusters = K).fit(x).fit_predict(x)"
   ]
  },
  {
   "cell_type": "code",
   "execution_count": 21,
   "id": "83d99b2e",
   "metadata": {},
   "outputs": [],
   "source": [
    "cluster = []\n",
    "for i in range(K):\n",
    "    cluster.append(x[y == i, :])"
   ]
  },
  {
   "cell_type": "code",
   "execution_count": 24,
   "id": "73f486a0",
   "metadata": {},
   "outputs": [
    {
     "data": {
      "image/png": "[encoded data removed]",
      "text/plain": [
       "<Figure size 720x432 with 1 Axes>"
      ]
     },
     "metadata": {
      "needs_background": "light"
     },
     "output_type": "display_data"
    }
   ],
   "source": [
    "# vẽ hình phân cụm\n",
    "markers = [\"o\",\"v\",\"*\",\"8\"]\n",
    "plt.figure(figsize = (10,6))\n",
    "for i in range(len(cluster)):\n",
    "    plt.scatter(cluster[i][:,0],cluster[i][:,1],marker=markers[i],s=50)\n",
    "    plt.scatter(cluster[i][:,0].mean(),cluster[i][:,1].mean(),marker=\"X\",color='black',s=200)\n",
    "plt.xlabel(\"Age\")\n",
    "plt.ylabel(\"Annual Income (k$)\");"
   ]
  },
  {
   "cell_type": "code",
   "execution_count": null,
   "id": "50a8b115",
   "metadata": {},
   "outputs": [],
   "source": []
  }
 ],
 "metadata": {
  "kernelspec": {
   "display_name": "Python 3 (ipykernel)",
   "language": "python",
   "name": "python3"
  },
  "language_info": {
   "codemirror_mode": {
    "name": "ipython",
    "version": 3
   },
   "file_extension": ".py",
   "mimetype": "text/x-python",
   "name": "python",
   "nbconvert_exporter": "python",
   "pygments_lexer": "ipython3",
   "version": "3.9.7"
  }
 },
 "nbformat": 4,
 "nbformat_minor": 5
}
