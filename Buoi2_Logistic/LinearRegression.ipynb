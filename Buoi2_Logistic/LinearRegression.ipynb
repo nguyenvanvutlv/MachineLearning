{
 "cells": [
  {
   "cell_type": "code",
   "execution_count": 11,
   "id": "b3805278",
   "metadata": {},
   "outputs": [],
   "source": [
    "import numpy as np\n",
    "import matplotlib.pyplot as plt\n",
    "import pandas as pd"
   ]
  },
  {
   "cell_type": "markdown",
   "id": "5cf54dc7",
   "metadata": {},
   "source": [
    "# Linear Regression"
   ]
  },
  {
   "cell_type": "code",
   "execution_count": 12,
   "id": "c80e0be1",
   "metadata": {},
   "outputs": [],
   "source": [
    "data = pd.read_csv(\"data_linear.csv\")"
   ]
  },
  {
   "cell_type": "code",
   "execution_count": 13,
   "id": "8881ce1e",
   "metadata": {},
   "outputs": [
    {
     "data": {
      "text/plain": [
       "Diện tích    0\n",
       "Giá          0\n",
       "dtype: int64"
      ]
     },
     "execution_count": 13,
     "metadata": {},
     "output_type": "execute_result"
    }
   ],
   "source": [
    "# kiểm tra missing data\n",
    "data.isnull().sum()"
   ]
  },
  {
   "cell_type": "code",
   "execution_count": 14,
   "id": "3c02fca3",
   "metadata": {},
   "outputs": [
    {
     "data": {
      "text/html": [
       "<div>\n",
       "<style scoped>\n",
       "    .dataframe tbody tr th:only-of-type {\n",
       "        vertical-align: middle;\n",
       "    }\n",
       "\n",
       "    .dataframe tbody tr th {\n",
       "        vertical-align: top;\n",
       "    }\n",
       "\n",
       "    .dataframe thead th {\n",
       "        text-align: right;\n",
       "    }\n",
       "</style>\n",
       "<table border=\"1\" class=\"dataframe\">\n",
       "  <thead>\n",
       "    <tr style=\"text-align: right;\">\n",
       "      <th></th>\n",
       "      <th>Diện tích</th>\n",
       "      <th>Giá</th>\n",
       "    </tr>\n",
       "  </thead>\n",
       "  <tbody>\n",
       "    <tr>\n",
       "      <th>0</th>\n",
       "      <td>30.0000</td>\n",
       "      <td>448.524</td>\n",
       "    </tr>\n",
       "    <tr>\n",
       "      <th>1</th>\n",
       "      <td>32.4138</td>\n",
       "      <td>509.248</td>\n",
       "    </tr>\n",
       "    <tr>\n",
       "      <th>2</th>\n",
       "      <td>34.8276</td>\n",
       "      <td>535.104</td>\n",
       "    </tr>\n",
       "    <tr>\n",
       "      <th>3</th>\n",
       "      <td>37.2414</td>\n",
       "      <td>551.432</td>\n",
       "    </tr>\n",
       "    <tr>\n",
       "      <th>4</th>\n",
       "      <td>39.6552</td>\n",
       "      <td>623.418</td>\n",
       "    </tr>\n",
       "  </tbody>\n",
       "</table>\n",
       "</div>"
      ],
      "text/plain": [
       "   Diện tích      Giá\n",
       "0    30.0000  448.524\n",
       "1    32.4138  509.248\n",
       "2    34.8276  535.104\n",
       "3    37.2414  551.432\n",
       "4    39.6552  623.418"
      ]
     },
     "execution_count": 14,
     "metadata": {},
     "output_type": "execute_result"
    }
   ],
   "source": [
    "data.head()"
   ]
  },
  {
   "cell_type": "code",
   "execution_count": 19,
   "id": "356eec29",
   "metadata": {},
   "outputs": [
    {
     "data": {
      "image/png": "[encoded data removed]",
      "text/plain": [
       "<Figure size 432x288 with 1 Axes>"
      ]
     },
     "metadata": {
      "needs_background": "light"
     },
     "output_type": "display_data"
    }
   ],
   "source": [
    "# trực quan hoá dữ liệu để tìm mối liên hệ\n",
    "plt.scatter(data['Diện tích'],data['Giá']);"
   ]
  },
  {
   "cell_type": "markdown",
   "id": "daf44677",
   "metadata": {},
   "source": [
    "## Không sử dụng thư viện"
   ]
  },
  {
   "cell_type": "markdown",
   "id": "05db2f8f",
   "metadata": {},
   "source": [
    "Lossfunction: $f(W) = \\frac{1}{2N} \\sum_{i=1}^{N} (y_i - X_i W)$\n",
    "\n",
    "Nghiệm của PT: \n",
    "\n",
    "$\\frac{ \\nabla f(w) }{ \\nabla w} = 0$ \n",
    "               \n",
    "-> $X^TXw = X^Ty$ -> $w = (X^TX)^{-1}X^Ty$"
   ]
  },
  {
   "cell_type": "code",
   "execution_count": 51,
   "id": "60cb2477",
   "metadata": {},
   "outputs": [],
   "source": [
    "data_x = data['Diện tích'].values"
   ]
  },
  {
   "cell_type": "code",
   "execution_count": 52,
   "id": "cf21674c",
   "metadata": {},
   "outputs": [],
   "source": [
    "data_y = data['Giá'].values"
   ]
  },
  {
   "cell_type": "code",
   "execution_count": 53,
   "id": "4512a1f5",
   "metadata": {},
   "outputs": [],
   "source": [
    "data_x = data_x.reshape(-1,1)"
   ]
  },
  {
   "cell_type": "code",
   "execution_count": 54,
   "id": "797d9db3",
   "metadata": {},
   "outputs": [],
   "source": [
    "data_y = data_y.reshape(-1,1)"
   ]
  },
  {
   "cell_type": "code",
   "execution_count": 55,
   "id": "dd6e899a",
   "metadata": {},
   "outputs": [],
   "source": [
    "one = np.ones((data_x.shape[0],1))"
   ]
  },
  {
   "cell_type": "code",
   "execution_count": 56,
   "id": "56799e35",
   "metadata": {},
   "outputs": [],
   "source": [
    "data_x = np.concatenate((data_x,one),axis=1)"
   ]
  },
  {
   "cell_type": "code",
   "execution_count": 57,
   "id": "001b38e8",
   "metadata": {},
   "outputs": [],
   "source": [
    "A = data_x.T @ data_x"
   ]
  },
  {
   "cell_type": "code",
   "execution_count": 58,
   "id": "494b65a1",
   "metadata": {},
   "outputs": [],
   "source": [
    "B = data_x.T @ data_y"
   ]
  },
  {
   "cell_type": "code",
   "execution_count": 62,
   "id": "8fb0427b",
   "metadata": {},
   "outputs": [],
   "source": [
    "C = np.linalg.pinv(A) @ B"
   ]
  },
  {
   "cell_type": "code",
   "execution_count": 63,
   "id": "607dff6e",
   "metadata": {},
   "outputs": [
    {
     "data": {
      "text/plain": [
       "array([[15.2110908 ],\n",
       "       [-7.06426865]])"
      ]
     },
     "execution_count": 63,
     "metadata": {},
     "output_type": "execute_result"
    }
   ],
   "source": [
    "C"
   ]
  },
  {
   "cell_type": "code",
   "execution_count": 66,
   "id": "bdcd7972",
   "metadata": {},
   "outputs": [
    {
     "data": {
      "image/png": "[encoded data removed]",
      "text/plain": [
       "<Figure size 432x288 with 1 Axes>"
      ]
     },
     "metadata": {
      "needs_background": "light"
     },
     "output_type": "display_data"
    }
   ],
   "source": [
    "plt.scatter(data['Diện tích'],data['Giá'],c='red')\n",
    "plt.plot(data['Diện tích'],data['Diện tích'] * C[0][0] + C[1][0],c='green');"
   ]
  },
  {
   "cell_type": "markdown",
   "id": "614020fc",
   "metadata": {},
   "source": [
    "## Sử dụng thư viện"
   ]
  },
  {
   "cell_type": "code",
   "execution_count": 70,
   "id": "a21bd769",
   "metadata": {},
   "outputs": [],
   "source": [
    "from sklearn.linear_model import LinearRegression"
   ]
  },
  {
   "cell_type": "code",
   "execution_count": 71,
   "id": "d87630d9",
   "metadata": {},
   "outputs": [],
   "source": [
    "reg = LinearRegression()"
   ]
  },
  {
   "cell_type": "code",
   "execution_count": 79,
   "id": "30ba1daa",
   "metadata": {},
   "outputs": [
    {
     "data": {
      "text/plain": [
       "LinearRegression()"
      ]
     },
     "execution_count": 79,
     "metadata": {},
     "output_type": "execute_result"
    }
   ],
   "source": [
    "reg.fit(data_x,data_y)"
   ]
  },
  {
   "cell_type": "code",
   "execution_count": 83,
   "id": "1cafff7d",
   "metadata": {},
   "outputs": [],
   "source": [
    "a = reg.coef_[0][0]"
   ]
  },
  {
   "cell_type": "code",
   "execution_count": 84,
   "id": "a8c7c0d1",
   "metadata": {},
   "outputs": [],
   "source": [
    "b = reg.intercept_[0]"
   ]
  },
  {
   "cell_type": "code",
   "execution_count": 86,
   "id": "aaa5bdf8",
   "metadata": {},
   "outputs": [
    {
     "data": {
      "image/png": "[encoded data removed]",
      "text/plain": [
       "<Figure size 432x288 with 1 Axes>"
      ]
     },
     "metadata": {
      "needs_background": "light"
     },
     "output_type": "display_data"
    }
   ],
   "source": [
    "plt.scatter(data['Diện tích'],data['Giá'],c='red')\n",
    "plt.plot(data['Diện tích'],data['Diện tích'] * a + b,c='green');"
   ]
  }
 ],
 "metadata": {
  "kernelspec": {
   "display_name": "Python 3 (ipykernel)",
   "language": "python",
   "name": "python3"
  },
  "language_info": {
   "codemirror_mode": {
    "name": "ipython",
    "version": 3
   },
   "file_extension": ".py",
   "mimetype": "text/x-python",
   "name": "python",
   "nbconvert_exporter": "python",
   "pygments_lexer": "ipython3",
   "version": "3.9.7"
  }
 },
 "nbformat": 4,
 "nbformat_minor": 5
}
