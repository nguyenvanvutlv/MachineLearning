{
 "cells": [
  {
   "cell_type": "code",
   "execution_count": 1,
   "id": "e6271ea0",
   "metadata": {},
   "outputs": [],
   "source": [
    "import numpy as np \n",
    "import pandas as pd\n",
    "import matplotlib.pyplot as plt\n",
    "from sklearn.impute import SimpleImputer\n",
    "from sklearn.preprocessing import MinMaxScaler\n",
    "from sklearn.model_selection import train_test_split\n",
    "from sklearn.neighbors import KNeighborsClassifier\n",
    "from sklearn import metrics\n",
    "\n",
    "\n",
    "# loại bỏ cảnh báo\n",
    "import warnings\n",
    "warnings.filterwarnings('ignore')"
   ]
  },
  {
   "cell_type": "code",
   "execution_count": 2,
   "id": "cd31c036",
   "metadata": {},
   "outputs": [],
   "source": [
    "data = pd.read_csv(\"Network_Ads.csv\")"
   ]
  },
  {
   "cell_type": "code",
   "execution_count": 3,
   "id": "94e3ee11",
   "metadata": {},
   "outputs": [
    {
     "data": {
      "text/html": [
       "<div>\n",
       "<style scoped>\n",
       "    .dataframe tbody tr th:only-of-type {\n",
       "        vertical-align: middle;\n",
       "    }\n",
       "\n",
       "    .dataframe tbody tr th {\n",
       "        vertical-align: top;\n",
       "    }\n",
       "\n",
       "    .dataframe thead th {\n",
       "        text-align: right;\n",
       "    }\n",
       "</style>\n",
       "<table border=\"1\" class=\"dataframe\">\n",
       "  <thead>\n",
       "    <tr style=\"text-align: right;\">\n",
       "      <th></th>\n",
       "      <th>Gender</th>\n",
       "      <th>Age</th>\n",
       "      <th>EstimatedSalary</th>\n",
       "      <th>Purchased</th>\n",
       "    </tr>\n",
       "  </thead>\n",
       "  <tbody>\n",
       "    <tr>\n",
       "      <th>0</th>\n",
       "      <td>Male</td>\n",
       "      <td>19</td>\n",
       "      <td>19000.0</td>\n",
       "      <td>0</td>\n",
       "    </tr>\n",
       "    <tr>\n",
       "      <th>1</th>\n",
       "      <td>Male</td>\n",
       "      <td>35</td>\n",
       "      <td>20000.0</td>\n",
       "      <td>0</td>\n",
       "    </tr>\n",
       "    <tr>\n",
       "      <th>2</th>\n",
       "      <td>Female</td>\n",
       "      <td>26</td>\n",
       "      <td>43000.0</td>\n",
       "      <td>0</td>\n",
       "    </tr>\n",
       "    <tr>\n",
       "      <th>3</th>\n",
       "      <td>Female</td>\n",
       "      <td>27</td>\n",
       "      <td>57000.0</td>\n",
       "      <td>0</td>\n",
       "    </tr>\n",
       "    <tr>\n",
       "      <th>4</th>\n",
       "      <td>Male</td>\n",
       "      <td>19</td>\n",
       "      <td>76000.0</td>\n",
       "      <td>0</td>\n",
       "    </tr>\n",
       "  </tbody>\n",
       "</table>\n",
       "</div>"
      ],
      "text/plain": [
       "   Gender  Age  EstimatedSalary  Purchased\n",
       "0    Male   19          19000.0          0\n",
       "1    Male   35          20000.0          0\n",
       "2  Female   26          43000.0          0\n",
       "3  Female   27          57000.0          0\n",
       "4    Male   19          76000.0          0"
      ]
     },
     "execution_count": 3,
     "metadata": {},
     "output_type": "execute_result"
    }
   ],
   "source": [
    "data.head()"
   ]
  },
  {
   "cell_type": "code",
   "execution_count": 4,
   "id": "2c0dc4f0",
   "metadata": {},
   "outputs": [
    {
     "data": {
      "text/plain": [
       "Gender              0\n",
       "Age                 0\n",
       "EstimatedSalary    11\n",
       "Purchased           0\n",
       "dtype: int64"
      ]
     },
     "execution_count": 4,
     "metadata": {},
     "output_type": "execute_result"
    }
   ],
   "source": [
    "data.isnull().sum()"
   ]
  },
  {
   "cell_type": "markdown",
   "id": "5ae71956",
   "metadata": {},
   "source": [
    "- Cột bị mất dữ liệu là EstimatedSalary\n",
    "\n",
    "- Sử lý missing data bằng SimpleImputer"
   ]
  },
  {
   "cell_type": "code",
   "execution_count": 5,
   "id": "28a552ac",
   "metadata": {},
   "outputs": [],
   "source": [
    "imp = SimpleImputer(missing_values = np.nan,strategy = 'mean')"
   ]
  },
  {
   "cell_type": "code",
   "execution_count": 6,
   "id": "187d89e8",
   "metadata": {},
   "outputs": [],
   "source": [
    "data.iloc[:,2:3] = imp.fit(data.iloc[:,2:3]).transform(data.iloc[:,2:3])"
   ]
  },
  {
   "cell_type": "code",
   "execution_count": 7,
   "id": "e0066f3f",
   "metadata": {},
   "outputs": [
    {
     "data": {
      "text/plain": [
       "Gender             0\n",
       "Age                0\n",
       "EstimatedSalary    0\n",
       "Purchased          0\n",
       "dtype: int64"
      ]
     },
     "execution_count": 7,
     "metadata": {},
     "output_type": "execute_result"
    }
   ],
   "source": [
    "data.isnull().sum()"
   ]
  },
  {
   "cell_type": "code",
   "execution_count": 8,
   "id": "c0b7cb66",
   "metadata": {},
   "outputs": [],
   "source": [
    "data['Gender'] = data['Gender'].map({'Male' : 1,'Female' : 0})"
   ]
  },
  {
   "cell_type": "code",
   "execution_count": 9,
   "id": "b6ec6e3f",
   "metadata": {},
   "outputs": [
    {
     "data": {
      "text/html": [
       "<div>\n",
       "<style scoped>\n",
       "    .dataframe tbody tr th:only-of-type {\n",
       "        vertical-align: middle;\n",
       "    }\n",
       "\n",
       "    .dataframe tbody tr th {\n",
       "        vertical-align: top;\n",
       "    }\n",
       "\n",
       "    .dataframe thead th {\n",
       "        text-align: right;\n",
       "    }\n",
       "</style>\n",
       "<table border=\"1\" class=\"dataframe\">\n",
       "  <thead>\n",
       "    <tr style=\"text-align: right;\">\n",
       "      <th></th>\n",
       "      <th>Gender</th>\n",
       "      <th>Age</th>\n",
       "      <th>EstimatedSalary</th>\n",
       "      <th>Purchased</th>\n",
       "    </tr>\n",
       "  </thead>\n",
       "  <tbody>\n",
       "    <tr>\n",
       "      <th>0</th>\n",
       "      <td>1</td>\n",
       "      <td>19</td>\n",
       "      <td>19000.0</td>\n",
       "      <td>0</td>\n",
       "    </tr>\n",
       "    <tr>\n",
       "      <th>1</th>\n",
       "      <td>1</td>\n",
       "      <td>35</td>\n",
       "      <td>20000.0</td>\n",
       "      <td>0</td>\n",
       "    </tr>\n",
       "    <tr>\n",
       "      <th>2</th>\n",
       "      <td>0</td>\n",
       "      <td>26</td>\n",
       "      <td>43000.0</td>\n",
       "      <td>0</td>\n",
       "    </tr>\n",
       "    <tr>\n",
       "      <th>3</th>\n",
       "      <td>0</td>\n",
       "      <td>27</td>\n",
       "      <td>57000.0</td>\n",
       "      <td>0</td>\n",
       "    </tr>\n",
       "    <tr>\n",
       "      <th>4</th>\n",
       "      <td>1</td>\n",
       "      <td>19</td>\n",
       "      <td>76000.0</td>\n",
       "      <td>0</td>\n",
       "    </tr>\n",
       "  </tbody>\n",
       "</table>\n",
       "</div>"
      ],
      "text/plain": [
       "   Gender  Age  EstimatedSalary  Purchased\n",
       "0       1   19          19000.0          0\n",
       "1       1   35          20000.0          0\n",
       "2       0   26          43000.0          0\n",
       "3       0   27          57000.0          0\n",
       "4       1   19          76000.0          0"
      ]
     },
     "execution_count": 9,
     "metadata": {},
     "output_type": "execute_result"
    }
   ],
   "source": [
    "data.head()"
   ]
  },
  {
   "cell_type": "markdown",
   "id": "f48ab50a",
   "metadata": {},
   "source": [
    "- Vẽ biểu đồ tìm hiểu mối quan hệ"
   ]
  },
  {
   "cell_type": "code",
   "execution_count": 10,
   "id": "b1ac815f",
   "metadata": {},
   "outputs": [
    {
     "data": {
      "image/png": "[encoded data removed]",
      "text/plain": [
       "<Figure size 1080x360 with 3 Axes>"
      ]
     },
     "metadata": {
      "needs_background": "light"
     },
     "output_type": "display_data"
    }
   ],
   "source": [
    "fig, ax = plt.subplots(nrows = 1,ncols = 3,figsize = (15,5))\n",
    "ax[0].scatter(data['Gender'],data['Age'])\n",
    "ax[1].scatter(data['Gender'],data['EstimatedSalary'])\n",
    "ax[2].scatter(data['Age'],data['EstimatedSalary']);"
   ]
  },
  {
   "cell_type": "markdown",
   "id": "957f2a0a",
   "metadata": {},
   "source": [
    "- Từ biểu đồ trên ta thấy được có thể trọn hai cột đó là 'Age' và 'EstimatedSalary' để làm dự đoán cho cột 'Purchased'"
   ]
  },
  {
   "cell_type": "code",
   "execution_count": 11,
   "id": "20ae23c5",
   "metadata": {},
   "outputs": [],
   "source": [
    "X = data[['Age','EstimatedSalary']].values"
   ]
  },
  {
   "cell_type": "code",
   "execution_count": 12,
   "id": "8aa9977d",
   "metadata": {},
   "outputs": [
    {
     "data": {
      "text/plain": [
       "array([[1.9e+01, 1.9e+04],\n",
       "       [3.5e+01, 2.0e+04],\n",
       "       [2.6e+01, 4.3e+04],\n",
       "       [2.7e+01, 5.7e+04],\n",
       "       [1.9e+01, 7.6e+04],\n",
       "       [2.7e+01, 5.8e+04],\n",
       "       [2.7e+01, 8.4e+04],\n",
       "       [3.2e+01, 1.5e+05],\n",
       "       [2.5e+01, 3.3e+04],\n",
       "       [3.5e+01, 6.5e+04]])"
      ]
     },
     "execution_count": 12,
     "metadata": {},
     "output_type": "execute_result"
    }
   ],
   "source": [
    "X[:10]"
   ]
  },
  {
   "cell_type": "code",
   "execution_count": 13,
   "id": "cb528f5d",
   "metadata": {},
   "outputs": [],
   "source": [
    "Y = data[['Purchased']].values"
   ]
  },
  {
   "cell_type": "markdown",
   "id": "12877a9e",
   "metadata": {},
   "source": [
    "- Feature Scalling"
   ]
  },
  {
   "cell_type": "code",
   "execution_count": 14,
   "id": "af383914",
   "metadata": {},
   "outputs": [],
   "source": [
    "X = MinMaxScaler(feature_range = (0,1)).fit(X).transform(X)"
   ]
  },
  {
   "cell_type": "code",
   "execution_count": 15,
   "id": "2d34cbfa",
   "metadata": {},
   "outputs": [
    {
     "data": {
      "text/plain": [
       "array([[0.02380952, 0.02962963],\n",
       "       [0.4047619 , 0.03703704],\n",
       "       [0.19047619, 0.20740741],\n",
       "       [0.21428571, 0.31111111],\n",
       "       [0.02380952, 0.45185185],\n",
       "       [0.21428571, 0.31851852],\n",
       "       [0.21428571, 0.51111111],\n",
       "       [0.33333333, 1.        ],\n",
       "       [0.16666667, 0.13333333],\n",
       "       [0.4047619 , 0.37037037]])"
      ]
     },
     "execution_count": 15,
     "metadata": {},
     "output_type": "execute_result"
    }
   ],
   "source": [
    "X[:10]"
   ]
  },
  {
   "cell_type": "markdown",
   "id": "ecb8fab5",
   "metadata": {},
   "source": [
    "- Chia tập dữ liệu"
   ]
  },
  {
   "cell_type": "code",
   "execution_count": 16,
   "id": "b9d825d2",
   "metadata": {},
   "outputs": [],
   "source": [
    "x_train, x_test, y_train, y_test = train_test_split(X, Y, test_size = 0.25,random_state = 4)"
   ]
  },
  {
   "cell_type": "markdown",
   "id": "da50dbe0",
   "metadata": {},
   "source": [
    "- Chọn K"
   ]
  },
  {
   "cell_type": "code",
   "execution_count": 17,
   "id": "6c867508",
   "metadata": {},
   "outputs": [],
   "source": [
    "hisScore = []\n",
    "for K in range(1,31):\n",
    "    KNN = KNeighborsClassifier(n_neighbors = K).fit(x_train,y_train)\n",
    "    yhat = KNN.predict(x_test)\n",
    "    hisScore.append(metrics.accuracy_score(y_test,yhat))"
   ]
  },
  {
   "cell_type": "code",
   "execution_count": 18,
   "id": "189dffa3",
   "metadata": {},
   "outputs": [
    {
     "data": {
      "image/png": "[encoded data removed]",
      "text/plain": [
       "<Figure size 432x288 with 1 Axes>"
      ]
     },
     "metadata": {
      "needs_background": "light"
     },
     "output_type": "display_data"
    }
   ],
   "source": [
    "plt.plot([i for i in range(1,31)],hisScore);"
   ]
  },
  {
   "cell_type": "markdown",
   "id": "49236469",
   "metadata": {},
   "source": [
    "- Chọn K = 21"
   ]
  },
  {
   "cell_type": "code",
   "execution_count": 26,
   "id": "9ff41cf1",
   "metadata": {},
   "outputs": [],
   "source": [
    "K = 21\n",
    "KNN = KNeighborsClassifier(n_neighbors = K).fit(x_train,y_train)\n",
    "\n",
    "yHat = KNN.predict(x_test)"
   ]
  },
  {
   "cell_type": "code",
   "execution_count": 27,
   "id": "96bbf4de",
   "metadata": {},
   "outputs": [],
   "source": [
    "score = metrics.accuracy_score(y_test,yHat)"
   ]
  },
  {
   "cell_type": "code",
   "execution_count": 28,
   "id": "e0487fcd",
   "metadata": {},
   "outputs": [
    {
     "data": {
      "text/plain": [
       "0.91"
      ]
     },
     "execution_count": 28,
     "metadata": {},
     "output_type": "execute_result"
    }
   ],
   "source": [
    "score"
   ]
  },
  {
   "cell_type": "code",
   "execution_count": 29,
   "id": "44b9e5ce",
   "metadata": {},
   "outputs": [
    {
     "name": "stdout",
     "output_type": "stream",
     "text": [
      "              precision    recall  f1-score   support\n",
      "\n",
      "           0       0.94      0.93      0.94        70\n",
      "           1       0.84      0.87      0.85        30\n",
      "\n",
      "    accuracy                           0.91       100\n",
      "   macro avg       0.89      0.90      0.89       100\n",
      "weighted avg       0.91      0.91      0.91       100\n",
      "\n"
     ]
    }
   ],
   "source": [
    "print(metrics.classification_report(y_test,yHat))"
   ]
  },
  {
   "cell_type": "code",
   "execution_count": 30,
   "id": "e03cb2e1",
   "metadata": {},
   "outputs": [
    {
     "name": "stdout",
     "output_type": "stream",
     "text": [
      "[[65  5]\n",
      " [ 4 26]]\n"
     ]
    }
   ],
   "source": [
    "print(metrics.confusion_matrix(y_test,yHat))"
   ]
  },
  {
   "cell_type": "code",
   "execution_count": null,
   "id": "fe676be1",
   "metadata": {},
   "outputs": [],
   "source": []
  }
 ],
 "metadata": {
  "kernelspec": {
   "display_name": "Python 3 (ipykernel)",
   "language": "python",
   "name": "python3"
  },
  "language_info": {
   "codemirror_mode": {
    "name": "ipython",
    "version": 3
   },
   "file_extension": ".py",
   "mimetype": "text/x-python",
   "name": "python",
   "nbconvert_exporter": "python",
   "pygments_lexer": "ipython3",
   "version": "3.9.7"
  }
 },
 "nbformat": 4,
 "nbformat_minor": 5
}
